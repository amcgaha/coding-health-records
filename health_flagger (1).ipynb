{
 "cells": [
  {
   "cell_type": "markdown",
   "metadata": {},
   "source": [
    "# Flag misleading text\n",
    "\n",
    "Before we can scan report text and classify our records, a source of pervasive error needs to be fixed. Often healthcare staff ask patients if they have a certain symptom, like a headache, and then report the *lack* of symptom in their report. For example, a report might have a line that reads \"no vomiting\" or \"denies headache\". Records with phrases like this need to be adjusted.\n",
    "\n",
    "Luckily, almost all of the time the negative reports come *after* positive reports. That means a simple function can be applied to all records which removes all characters after a negative keyword.\n"
   ]
  },
  {
   "cell_type": "code",
   "execution_count": 1,
   "metadata": {},
   "outputs": [],
   "source": [
    "import pandas as pd"
   ]
  },
  {
   "cell_type": "code",
   "execution_count": 2,
   "metadata": {},
   "outputs": [],
   "source": [
    "origin_df = pd.read_csv('C:\\\\Users\\\\avery\\\\OneDrive\\\\health_database_docs\\\\positive_only_records.csv')"
   ]
  },
  {
   "cell_type": "markdown",
   "metadata": {},
   "source": [
    "Add flag column and set default to false:"
   ]
  },
  {
   "cell_type": "code",
   "execution_count": 3,
   "metadata": {},
   "outputs": [],
   "source": [
    "origin_df['flagged'] = False"
   ]
  },
  {
   "cell_type": "markdown",
   "metadata": {},
   "source": [
    "Select all records with keywords to flag, then set 'flagged' to True for those records."
   ]
  },
  {
   "cell_type": "code",
   "execution_count": 4,
   "metadata": {
    "scrolled": true
   },
   "outputs": [
    {
     "name": "stdout",
     "output_type": "stream",
     "text": [
      "False    2910\n",
      "True      888\n",
      "Name: flagged_again, dtype: int64\n"
     ]
    }
   ],
   "source": [
    "flag_list = ['no ', 'denies', 'not', 'none', 'deny']\n",
    "\n",
    "flagged_copy = origin_df.copy(deep=True)\n",
    "flagged_copy['flagged_again'] = False\n",
    "\n",
    "def flag_word(dataframe, text_col, keyword, result_col):\n",
    "    \"\"\"creates a test to match the keyword in a column of a dataframe, then sets flagged to True\"\"\"\n",
    "    test = (dataframe[text_col].str.contains(keyword, case=False)) & (dataframe['flagged'] == False)\n",
    "    dataframe.loc[test, result_col] = True \n",
    "\n",
    "    \n",
    "for keyword in flag_list:\n",
    "    flag_word(flagged_copy, 'ailment_text', keyword, 'flagged_again')\n",
    "    \n",
    "\n",
    "print(flagged_copy['flagged_again'].value_counts())\n"
   ]
  },
  {
   "cell_type": "markdown",
   "metadata": {},
   "source": [
    "Export flagged results to csv for review."
   ]
  },
  {
   "cell_type": "code",
   "execution_count": 5,
   "metadata": {},
   "outputs": [],
   "source": [
    "flagged_copy.to_csv('C:\\\\Users\\\\avery\\\\OneDrive\\\\health_database_docs\\\\flagged_twice.csv')"
   ]
  },
  {
   "cell_type": "code",
   "execution_count": null,
   "metadata": {},
   "outputs": [],
   "source": []
  }
 ],
 "metadata": {
  "kernelspec": {
   "display_name": "Python 3",
   "language": "python",
   "name": "python3"
  },
  "language_info": {
   "codemirror_mode": {
    "name": "ipython",
    "version": 3
   },
   "file_extension": ".py",
   "mimetype": "text/x-python",
   "name": "python",
   "nbconvert_exporter": "python",
   "pygments_lexer": "ipython3",
   "version": "3.8.3"
  }
 },
 "nbformat": 4,
 "nbformat_minor": 4
}
