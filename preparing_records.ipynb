{
 "cells": [
  {
   "cell_type": "markdown",
   "metadata": {},
   "source": [
    "# Preparing Health Records\n",
    "\n",
    "This step imports, cleans, and transforms a decade of health records into a single clean dataframe for later analysis."
   ]
  },
  {
   "cell_type": "code",
   "execution_count": 1,
   "metadata": {},
   "outputs": [],
   "source": [
    "import pandas as pd\n",
    "import datetime as dt"
   ]
  },
  {
   "cell_type": "markdown",
   "metadata": {},
   "source": [
    "Import reports and store in a dictionary of dataframes"
   ]
  },
  {
   "cell_type": "code",
   "execution_count": 2,
   "metadata": {},
   "outputs": [
    {
     "name": "stdout",
     "output_type": "stream",
     "text": [
      "{2013: 0, 2014: 0, 2015: 0, 2016: 0, 2017: 0, 2018: 0, 2019: 0}\n"
     ]
    }
   ],
   "source": [
    "# initialize dictionary\n",
    "years = list(range(2013, 2020))\n",
    "report_dict = dict.fromkeys(years, 0)\n",
    "print(report_dict)"
   ]
  },
  {
   "cell_type": "code",
   "execution_count": 3,
   "metadata": {},
   "outputs": [],
   "source": [
    "# list columns to import\n",
    "columns = ['personID', 'treatmentDate', 'ailment', 'notification', 'treatment', 'temperature', 'isCamper', 'SeasonTotal']\n",
    "\n",
    "# load dataframes into dictionary\n",
    "for key in report_dict:\n",
    "    filename = f'C:\\\\Users\\\\avery\\\\OneDrive\\\\health_database_docs\\\\raw_report_{key}.csv'\n",
    "    df = pd.read_csv(filename, usecols=columns)\n",
    "    report_dict[key] = df"
   ]
  },
  {
   "cell_type": "code",
   "execution_count": 4,
   "metadata": {
    "scrolled": false
   },
   "outputs": [
    {
     "name": "stdout",
     "output_type": "stream",
     "text": [
      "   personID    treatmentDate                         ailment  notification  \\\n",
      "0   5788673  7/23/2015 18:55  repeat lice check per schedule  Not Notified   \n",
      "\n",
      "                                       treatment temperature  isCamper  \\\n",
      "0  Ibuprofen, no lice found, no treatment needed         NaN         1   \n",
      "\n",
      "   SeasonTotal  \n",
      "0            1  \n"
     ]
    }
   ],
   "source": [
    "print(report_dict[2015].head(1))"
   ]
  },
  {
   "cell_type": "markdown",
   "metadata": {},
   "source": [
    "Combine all dataframes in the dictionary together and check the result shape."
   ]
  },
  {
   "cell_type": "code",
   "execution_count": 5,
   "metadata": {},
   "outputs": [
    {
     "name": "stdout",
     "output_type": "stream",
     "text": [
      "(3798, 8)\n"
     ]
    }
   ],
   "source": [
    "combined_df = pd.concat(report_dict.values(), axis=0, join='outer')\n",
    "print(combined_df.shape)"
   ]
  },
  {
   "cell_type": "markdown",
   "metadata": {},
   "source": [
    "Transform columns for more efficient use later:\n",
    "1. replace \"isCamper\" with boolean \"is_camper\"\n",
    "2. replace \"notification\" with boolean \"home_notified\"\n",
    "3. change \"treatmentDate\" to \"report_date\" and \"report_time\"\n",
    "4. rename \"personID\" to \"person_id\", \"SeasonTotal\" to \"season_total\""
   ]
  },
  {
   "cell_type": "code",
   "execution_count": 6,
   "metadata": {
    "scrolled": true
   },
   "outputs": [
    {
     "name": "stdout",
     "output_type": "stream",
     "text": [
      "personID           int64\n",
      "treatmentDate     object\n",
      "ailment           object\n",
      "notification      object\n",
      "treatment         object\n",
      "temperature       object\n",
      "isCamper         float64\n",
      "SeasonTotal        int64\n",
      "is_camper           bool\n",
      "dtype: object\n",
      "   personID    treatmentDate   ailment  notification  \\\n",
      "0   3955392  6/11/2013 21:22  Headache  Not Notified   \n",
      "\n",
      "                                           treatment temperature  isCamper  \\\n",
      "0  Ibuprofen, 400mg ibuprofen given that parents ...         NaN       1.0   \n",
      "\n",
      "   SeasonTotal  is_camper  \n",
      "0            1       True  \n"
     ]
    }
   ],
   "source": [
    "combined_df['is_camper'] = combined_df['isCamper'].astype('bool')\n",
    "print(combined_df.dtypes)\n",
    "print(combined_df.head(1))"
   ]
  },
  {
   "cell_type": "code",
   "execution_count": 7,
   "metadata": {},
   "outputs": [
    {
     "name": "stdout",
     "output_type": "stream",
     "text": [
      "Not Notified      3431\n",
      "Notified           285\n",
      "Not Applicable      72\n",
      "Left Voicemail       7\n",
      "Unavailable          1\n",
      "Name: notification, dtype: int64\n"
     ]
    }
   ],
   "source": [
    "print(combined_df['notification'].value_counts())"
   ]
  },
  {
   "cell_type": "code",
   "execution_count": 8,
   "metadata": {},
   "outputs": [
    {
     "name": "stdout",
     "output_type": "stream",
     "text": [
      "personID           int64\n",
      "treatmentDate     object\n",
      "ailment           object\n",
      "notification      object\n",
      "treatment         object\n",
      "temperature       object\n",
      "isCamper         float64\n",
      "SeasonTotal        int64\n",
      "is_camper           bool\n",
      "home_notified       bool\n",
      "dtype: object\n"
     ]
    }
   ],
   "source": [
    "notified_map = {'Notified': True, \n",
    "                'Left Voicemail': True,\n",
    "                'Unavailable': True,\n",
    "                'Not Notified': False, \n",
    "                'Not Applicable': False}\n",
    "\n",
    "# remap categories to True / False and store in new column\n",
    "combined_df['home_notified'] = combined_df['notification'].map(notified_map)\n",
    "\n",
    "# change data type to boolean \n",
    "combined_df['home_notified'] = combined_df['home_notified'].astype('bool')\n",
    "\n",
    "print(combined_df.dtypes)"
   ]
  },
  {
   "cell_type": "markdown",
   "metadata": {},
   "source": [
    "Rename a few other columns."
   ]
  },
  {
   "cell_type": "code",
   "execution_count": 9,
   "metadata": {},
   "outputs": [
    {
     "name": "stdout",
     "output_type": "stream",
     "text": [
      "Index(['person_id', 'treatmentDate', 'ailment_text', 'notification',\n",
      "       'treatment_text', 'temp', 'isCamper', 'season_visits', 'is_camper',\n",
      "       'home_notified'],\n",
      "      dtype='object')\n"
     ]
    }
   ],
   "source": [
    "new_names = {'personID':'person_id',\n",
    "            'temperature': 'temp',\n",
    "            'SeasonTotal': 'season_visits',\n",
    "            'ailment': 'ailment_text',\n",
    "            'treatment': 'treatment_text'}\n",
    "\n",
    "combined_df.rename(new_names, axis=1, inplace=True)\n",
    "\n",
    "print(combined_df.columns)"
   ]
  },
  {
   "cell_type": "markdown",
   "metadata": {},
   "source": [
    "Change \"treatmentDate\" to datetime, then split into separate date and time columns."
   ]
  },
  {
   "cell_type": "code",
   "execution_count": 10,
   "metadata": {},
   "outputs": [
    {
     "name": "stdout",
     "output_type": "stream",
     "text": [
      "    report_date report_time\n",
      "0    2013-06-11    21:22:00\n",
      "1    2013-06-19    08:12:00\n",
      "2    2013-06-23    10:45:00\n",
      "3    2013-06-26    21:25:00\n",
      "4    2013-08-01    17:54:00\n",
      "..          ...         ...\n",
      "653  2019-06-19    13:45:00\n",
      "654  2019-06-19    19:45:00\n",
      "655  2019-06-20    21:00:00\n",
      "656  2019-06-23    14:25:00\n",
      "657  2019-06-28    09:04:00\n",
      "\n",
      "[3798 rows x 2 columns]\n"
     ]
    }
   ],
   "source": [
    "combined_df['timestamp'] = pd.to_datetime(combined_df['treatmentDate'])\n",
    "combined_df['report_date'] = combined_df['timestamp'].dt.date\n",
    "combined_df['report_time'] = combined_df['timestamp'].dt.time\n",
    "\n",
    "print(combined_df[['report_date', 'report_time']])"
   ]
  },
  {
   "cell_type": "markdown",
   "metadata": {},
   "source": [
    "Check output and export."
   ]
  },
  {
   "cell_type": "code",
   "execution_count": 11,
   "metadata": {},
   "outputs": [
    {
     "name": "stdout",
     "output_type": "stream",
     "text": [
      "Index(['person_id', 'treatmentDate', 'ailment_text', 'notification',\n",
      "       'treatment_text', 'temp', 'isCamper', 'season_visits', 'is_camper',\n",
      "       'home_notified', 'timestamp', 'report_date', 'report_time'],\n",
      "      dtype='object')\n"
     ]
    }
   ],
   "source": [
    "print(combined_df.columns)"
   ]
  },
  {
   "cell_type": "code",
   "execution_count": 13,
   "metadata": {},
   "outputs": [],
   "source": [
    "final_df = combined_df[['person_id', 'report_date', 'report_time', 'timestamp', 'ailment_text', 'treatment_text', 'temp', 'season_visits', 'is_camper', 'home_notified']]\n",
    "final_df.to_csv('C:\\\\Users\\\\avery\\\\OneDrive\\\\health_database_docs\\\\combined_health_records.csv')"
   ]
  },
  {
   "cell_type": "code",
   "execution_count": null,
   "metadata": {},
   "outputs": [],
   "source": []
  }
 ],
 "metadata": {
  "kernelspec": {
   "display_name": "Python 3",
   "language": "python",
   "name": "python3"
  },
  "language_info": {
   "codemirror_mode": {
    "name": "ipython",
    "version": 3
   },
   "file_extension": ".py",
   "mimetype": "text/x-python",
   "name": "python",
   "nbconvert_exporter": "python",
   "pygments_lexer": "ipython3",
   "version": "3.8.3"
  }
 },
 "nbformat": 4,
 "nbformat_minor": 4
}
