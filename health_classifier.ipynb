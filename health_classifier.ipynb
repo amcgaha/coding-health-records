{
 "cells": [
  {
   "cell_type": "markdown",
   "metadata": {},
   "source": [
    "# Coding Treatment Keywords\n",
    "\n",
    "With a clean dataset of health records, we can now scan the report text for keywords. Those keywords are registered in a new column with a boolean test for presence in the text. Finally, we count the number of True statements for each row, which will let us easily find records that haven't been classified by the script."
   ]
  },
  {
   "cell_type": "code",
   "execution_count": 1,
   "metadata": {},
   "outputs": [],
   "source": [
    "import pandas as pd"
   ]
  },
  {
   "cell_type": "code",
   "execution_count": 2,
   "metadata": {
    "scrolled": true
   },
   "outputs": [
    {
     "name": "stdout",
     "output_type": "stream",
     "text": [
      "person_id                  int64\n",
      "report_date       datetime64[ns]\n",
      "report_time       datetime64[ns]\n",
      "timestamp         datetime64[ns]\n",
      "ailment_text              object\n",
      "treatment_text            object\n",
      "temp                     float64\n",
      "season_visits              int64\n",
      "is_camper                   bool\n",
      "home_notified               bool\n",
      "fixed                       bool\n",
      "flagged                     bool\n",
      "flagged_again               bool\n",
      "dtype: object\n",
      "Index(['person_id', 'report_date', 'report_time', 'timestamp', 'ailment_text',\n",
      "       'treatment_text', 'temp', 'season_visits', 'is_camper', 'home_notified',\n",
      "       'fixed', 'flagged', 'flagged_again'],\n",
      "      dtype='object')\n"
     ]
    }
   ],
   "source": [
    "origin_df = pd.read_csv('C:\\\\Users\\\\avery\\\\OneDrive\\\\health_database_docs\\\\pos_only_second_review.csv', parse_dates=['report_date', 'report_time', 'timestamp'])\n",
    "\n",
    "print(origin_df.dtypes)\n",
    "\n",
    "print(origin_df.columns)"
   ]
  },
  {
   "cell_type": "code",
   "execution_count": 3,
   "metadata": {},
   "outputs": [
    {
     "name": "stdout",
     "output_type": "stream",
     "text": [
      "(3794, 13)\n"
     ]
    }
   ],
   "source": [
    "print(origin_df.shape)"
   ]
  },
  {
   "cell_type": "markdown",
   "metadata": {},
   "source": [
    "Import csv containing keywords and their synonyms."
   ]
  },
  {
   "cell_type": "code",
   "execution_count": 4,
   "metadata": {},
   "outputs": [
    {
     "name": "stdout",
     "output_type": "stream",
     "text": [
      "                       keyword        syn_1  syn_2   syn_3      syn_4  \\\n",
      "index_copy                                                              \n",
      "abdominal pain  abdominal pain     abd pain   ----    ----       ----   \n",
      "abrasion              abrasion       scrape   ----    ----       ----   \n",
      "allergy                allergy     allergic  runny  sneeze  histamine   \n",
      "anaphylaxis        anaphylaxis  epinephrine   ----    ----       ----   \n",
      "blister                blister     hot spot   ----    ----       ----   \n",
      "\n",
      "                    syn_5 syn_6 syn_7 Unnamed: 8  \n",
      "index_copy                                        \n",
      "abdominal pain       ----  ----  ----       ----  \n",
      "abrasion             ----  ----  ----       ----  \n",
      "allergy         allergies  ----  ----       ----  \n",
      "anaphylaxis          ----  ----  ----       ----  \n",
      "blister              ----  ----  ----       ----  \n"
     ]
    }
   ],
   "source": [
    "keyword_df = pd.read_csv('C:\\\\Users\\\\avery\\\\OneDrive\\\\health_database_docs\\\\keyword_v1.csv')\n",
    "\n",
    "keyword_df.fillna('----', inplace=True)\n",
    "\n",
    "# copy first column so the code includes it in the search later\n",
    "keyword_df['index_copy'] = keyword_df['keyword']\n",
    "\n",
    "# then set first column as index\n",
    "keyword_df.set_index('index_copy', inplace=True)\n",
    "\n",
    "\n",
    "print(keyword_df.head())"
   ]
  },
  {
   "cell_type": "markdown",
   "metadata": {},
   "source": [
    "Transpose from long to wide format so it can be easily made into dictionary in next step"
   ]
  },
  {
   "cell_type": "code",
   "execution_count": 5,
   "metadata": {
    "scrolled": false
   },
   "outputs": [
    {
     "name": "stdout",
     "output_type": "stream",
     "text": [
      "index_copy  abdominal pain  abrasion    allergy  anaphylaxis   blister  \\\n",
      "keyword     abdominal pain  abrasion    allergy  anaphylaxis   blister   \n",
      "syn_1             abd pain    scrape   allergic  epinephrine  hot spot   \n",
      "syn_2                 ----      ----      runny         ----      ----   \n",
      "syn_3                 ----      ----     sneeze         ----      ----   \n",
      "syn_4                 ----      ----  histamine         ----      ----   \n",
      "\n",
      "index_copy         bm     bruise  bug bite  congestion         cut  ...  \\\n",
      "keyword            bm     bruise  bug bite  congestion         cut  ...   \n",
      "syn_1           bowel  contusion  mosquito       nasal  laceration  ...   \n",
      "syn_2             lax       ----      bite      stuffy       slice  ...   \n",
      "syn_3        movement       ----    papule   congested     scratch  ...   \n",
      "syn_4       constipat       ----       fly       sinus        ----  ...   \n",
      "\n",
      "index_copy  predator  capture  hike   hit    campout  anxiety   lice  grass  \\\n",
      "keyword     predator  capture  hike   hit    campout  anxiety   lice  grass   \n",
      "syn_1           ----     ----  ----  ----   camp out    worry    nit   ----   \n",
      "syn_2           ----     ----  ----  ----    camping    panic   ----   ----   \n",
      "syn_3           ----     ----  ----  ----   campsite  worried   ----   ----   \n",
      "syn_4           ----     ----  ----  ----  camp site  anxious   ----   ----   \n",
      "\n",
      "index_copy   eye      sleep  \n",
      "keyword      eye      sleep  \n",
      "syn_1       ----  not slept  \n",
      "syn_2       ----   sleeping  \n",
      "syn_3       ----       ----  \n",
      "syn_4       ----       ----  \n",
      "\n",
      "[5 rows x 51 columns]\n"
     ]
    }
   ],
   "source": [
    "transposed = keyword_df.transpose(copy=True)\n",
    "print(transposed.head())"
   ]
  },
  {
   "cell_type": "markdown",
   "metadata": {},
   "source": [
    "Create dictionary from dataframe."
   ]
  },
  {
   "cell_type": "code",
   "execution_count": 6,
   "metadata": {
    "scrolled": true
   },
   "outputs": [
    {
     "name": "stdout",
     "output_type": "stream",
     "text": [
      "{'abdominal pain': ['abdominal pain', 'abd pain', '----', '----', '----', '----', '----', '----', '----'], 'abrasion': ['abrasion', 'scrape', '----', '----', '----', '----', '----', '----', '----'], 'allergy': ['allergy', 'allergic', 'runny', 'sneeze', 'histamine', 'allergies', '----', '----', '----'], 'anaphylaxis': ['anaphylaxis', 'epinephrine', '----', '----', '----', '----', '----', '----', '----'], 'blister': ['blister', 'hot spot', '----', '----', '----', '----', '----', '----', '----'], 'bm': ['bm', 'bowel', 'lax', 'movement', 'constipat', '----', '----', '----', '----'], 'bruise': ['bruise', 'contusion', '----', '----', '----', '----', '----', '----', '----'], 'bug bite': ['bug bite', 'mosquito', 'bite', 'papule', 'fly', 'bug', 'bites', '----', '----'], 'congestion': ['congestion', 'nasal', 'stuffy', 'congested', 'sinus', '----', '----', '----', '----'], 'cut': ['cut', 'laceration', 'slice', 'scratch', '----', '----', '----', '----', '----'], 'diarrhea': ['diarrhea', 'dirrhea', '/d', 'loose BM', 'watery', 'loose stool', '----', '----', '----'], 'fatigue': ['fatigue', 'malaise', 'body aches', 'tired', 'achey', 'feeling poorly', '----', '----', '----'], 'fever': ['fever', 'chills', 'chilled', '----', '----', '----', '----', '----', '----'], 'headache': ['headache', 'migraine', 'ha', '----', '----', '----', '----', '----', '----'], 'hives': ['hives', 'wheels', '----', '----', '----', '----', '----', '----', '----'], 'homesick': ['homesick', 'missing home', '----', '----', '----', '----', '----', '----', '----'], 'itch': ['itch', 'irritation', 'scratching', '----', '----', '----', '----', '----', '----'], 'menstrual ': ['menstrual ', 'menses', 'vaginal', '----', '----', '----', '----', '----', '----'], 'mono': ['mono', 'mononucleosis', '----', '----', '----', '----', '----', '----', '----'], 'nausea': ['nausea', 'nauseous', 'queasy', 'nauseaus', 'n/', '/n', 'nauseated', '----', '----'], 'respiratory': ['respiratory', 'wheeze', 'shortness', 'sob', 'breathing', 'breath', 'URI', 'LRI', 'wheezing'], 'sore throat': ['sore throat', 'strep', 'swallow', 'ST', '----', '----', '----', '----', '----'], 'splinter': ['splinter', '----', '----', '----', '----', '----', '----', '----', '----'], 'sting': ['sting', 'yellow jacket', 'bee', 'wasp', 'stung', '----', '----', '----', '----'], 'stomach ache': ['stomach ache', 'belly', 'upset', 'epigastric', 'SA', 'tummy', 'cramp', 'active bowel sounds', '----'], 'sun burn': ['sun burn', 'sunburn', 'sunburned', 'sun burned', '----', '----', '----', '----', '----'], 'tick': ['tick', '----', '----', '----', '----', '----', '----', '----', '----'], 'rolled ankle': ['rolled ankle', 'rolled', 'sprained', 'twisted', 'ankle', 'twisting', 'rolling', '----', '----'], 'vomitting': ['vomitting', 'throw up', 'emesis', 'vomit', 'v/', '/v', 'throwing up', 'threw up', '----'], 'wound': ['wound', 'echymotic', 'bleeding', 'blood', '----', '----', '----', '----', '----'], 'poison ivy': ['poison ivy', 'PI', '----', '----', '----', '----', '----', '----', '----'], 'swelling': ['swelling', 'swollen', 'edema', '----', '----', '----', '----', '----', '----'], 'rash': ['rash', 'dermatitis', '----', '----', '----', '----', '----', '----', '----'], 'cough': ['cough', '----', '----', '----', '----', '----', '----', '----', '----'], 'asthma': ['asthma', 'inhaler', 'puffs', 'albuterol', '----', '----', '----', '----', '----'], 'fracture': ['fracture', '----', '----', '----', '----', '----', '----', '----', '----'], 'burn': ['burn', 'hot rock', '----', '----', '----', '----', '----', '----', '----'], 'cold': ['cold', '----', '----', '----', '----', '----', '----', '----', '----'], 'nosebleed': ['nosebleed', 'nose bleed', 'epitaxis', '----', '----', '----', '----', '----', '----'], 'toe': ['toe', 'paronychia', '----', '----', '----', '----', '----', '----', '----'], 'bike': ['bike', 'biking', '----', '----', '----', '----', '----', '----', '----'], 'predator': ['predator', '----', '----', '----', '----', '----', '----', '----', '----'], 'capture': ['capture', '----', '----', '----', '----', '----', '----', '----', '----'], 'hike': ['hike', '----', '----', '----', '----', '----', '----', '----', '----'], 'hit': ['hit', '----', '----', '----', '----', '----', '----', '----', '----'], 'campout': ['campout', 'camp out', 'camping', 'campsite', 'camp site', '----', '----', '----', '----'], 'anxiety': ['anxiety', 'worry', 'panic', 'worried', 'anxious', 'nervous', '----', '----', '----'], ' lice': [' lice', 'nit', '----', '----', '----', '----', '----', '----', '----'], 'grass': ['grass', '----', '----', '----', '----', '----', '----', '----', '----'], 'eye': ['eye', '----', '----', '----', '----', '----', '----', '----', '----'], 'sleep': ['sleep', 'not slept', 'sleeping', '----', '----', '----', '----', '----', '----']}\n"
     ]
    }
   ],
   "source": [
    "keyword_dict = transposed.to_dict(orient='list')\n",
    "print(keyword_dict)"
   ]
  },
  {
   "cell_type": "markdown",
   "metadata": {},
   "source": [
    "Add a column to the health records for each key in the dictionary, defaulting value to False."
   ]
  },
  {
   "cell_type": "code",
   "execution_count": 7,
   "metadata": {},
   "outputs": [
    {
     "name": "stdout",
     "output_type": "stream",
     "text": [
      "(3794, 64)\n"
     ]
    }
   ],
   "source": [
    "default_bool_df = origin_df.copy(deep=True)\n",
    "\n",
    "for key in keyword_dict:\n",
    "    default_bool_df[key] = False\n",
    "\n",
    "print(default_bool_df.shape)"
   ]
  },
  {
   "cell_type": "markdown",
   "metadata": {},
   "source": [
    "Define a function to search a column for a keyword."
   ]
  },
  {
   "cell_type": "code",
   "execution_count": 8,
   "metadata": {
    "scrolled": true
   },
   "outputs": [],
   "source": [
    "def test_for_word(dataframe, text_column, keyword, bool_column):\n",
    "    \"\"\"creates a boolean test to match the keyword in a column of a dataframe, then sets a target column to True\"\"\"\n",
    "    \n",
    "    # Selects column of dataframe and returns True for each record that contains the keyword\n",
    "    test = dataframe[text_column].str.contains(keyword)\n",
    "    \n",
    "    # Locates all records where the above test is True, then sets the desired column to True\n",
    "    dataframe.loc[test, bool_column] = True "
   ]
  },
  {
   "cell_type": "markdown",
   "metadata": {},
   "source": [
    "Run a nested loop to apply above function on each key in the dictionary and each item in each value list. For example, we want to search for 'nausea', 'nauseous', 'queasy' etc and set the column 'nausea' to True for each record that includes anything from the synonym list."
   ]
  },
  {
   "cell_type": "code",
   "execution_count": 9,
   "metadata": {
    "scrolled": true
   },
   "outputs": [
    {
     "name": "stdout",
     "output_type": "stream",
     "text": [
      "99\n"
     ]
    }
   ],
   "source": [
    "for key in keyword_dict:\n",
    "        \n",
    "    for value in keyword_dict[key]:\n",
    "        test_for_word(default_bool_df, 'ailment_text', value, key)\n",
    "        \n",
    "# check output\n",
    "print(default_bool_df['wound'].sum())"
   ]
  },
  {
   "cell_type": "code",
   "execution_count": 10,
   "metadata": {},
   "outputs": [
    {
     "name": "stdout",
     "output_type": "stream",
     "text": [
      "86\n"
     ]
    }
   ],
   "source": [
    "print(default_bool_df['vomitting'].sum())"
   ]
  },
  {
   "cell_type": "code",
   "execution_count": 11,
   "metadata": {},
   "outputs": [
    {
     "name": "stdout",
     "output_type": "stream",
     "text": [
      "Index(['person_id', 'report_date', 'report_time', 'timestamp', 'ailment_text',\n",
      "       'treatment_text', 'temp', 'season_visits', 'is_camper', 'home_notified',\n",
      "       'fixed', 'flagged', 'flagged_again', 'abdominal pain', 'abrasion',\n",
      "       'allergy', 'anaphylaxis', 'blister', 'bm', 'bruise', 'bug bite',\n",
      "       'congestion', 'cut', 'diarrhea', 'fatigue', 'fever', 'headache',\n",
      "       'hives', 'homesick', 'itch', 'menstrual ', 'mono', 'nausea',\n",
      "       'respiratory', 'sore throat', 'splinter', 'sting', 'stomach ache',\n",
      "       'sun burn', 'tick', 'rolled ankle', 'vomitting', 'wound', 'poison ivy',\n",
      "       'swelling', 'rash', 'cough', 'asthma', 'fracture', 'burn', 'cold',\n",
      "       'nosebleed', 'toe', 'bike', 'predator', 'capture', 'hike', 'hit',\n",
      "       'campout', 'anxiety', ' lice', 'grass', 'eye', 'sleep'],\n",
      "      dtype='object')\n"
     ]
    }
   ],
   "source": [
    "print(default_bool_df.columns)"
   ]
  },
  {
   "cell_type": "markdown",
   "metadata": {},
   "source": [
    "Flag records that have no Trues. "
   ]
  },
  {
   "cell_type": "code",
   "execution_count": 15,
   "metadata": {
    "scrolled": true
   },
   "outputs": [
    {
     "name": "stdout",
     "output_type": "stream",
     "text": [
      "  report_date  sum_true\n",
      "0  2013-06-11         0\n",
      "1  2013-06-19         2\n",
      "2  2013-06-23         2\n",
      "3  2013-06-26         1\n",
      "4  2013-08-01         1\n"
     ]
    }
   ],
   "source": [
    "# Create copy of df\n",
    "df_complete = default_bool_df.copy(deep=True)\n",
    "\n",
    "# Add new column, \"sum_true\", which sums the number of trues in the bool columns.\n",
    "# Columns 0 - 12 are essential data, and 13: are bools representing categories.\n",
    "df_complete['sum_true'] = df_complete.iloc[:, 13:].sum(axis=1)\n",
    "\n",
    "print(df_complete[['report_date', 'sum_true']].head())"
   ]
  },
  {
   "cell_type": "markdown",
   "metadata": {},
   "source": [
    "Export to csv for exploration."
   ]
  },
  {
   "cell_type": "code",
   "execution_count": 16,
   "metadata": {},
   "outputs": [],
   "source": [
    "df_complete.to_csv('C:\\\\Users\\\\avery\\\\OneDrive\\\\health_database_docs\\\\complete_records.csv')"
   ]
  },
  {
   "cell_type": "code",
   "execution_count": null,
   "metadata": {},
   "outputs": [],
   "source": []
  }
 ],
 "metadata": {
  "kernelspec": {
   "display_name": "Python 3",
   "language": "python",
   "name": "python3"
  },
  "language_info": {
   "codemirror_mode": {
    "name": "ipython",
    "version": 3
   },
   "file_extension": ".py",
   "mimetype": "text/x-python",
   "name": "python",
   "nbconvert_exporter": "python",
   "pygments_lexer": "ipython3",
   "version": "3.8.3"
  }
 },
 "nbformat": 4,
 "nbformat_minor": 4
}
