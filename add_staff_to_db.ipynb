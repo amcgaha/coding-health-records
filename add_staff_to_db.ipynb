{
 "cells": [
  {
   "cell_type": "markdown",
   "metadata": {},
   "source": [
    "# Adding Staff to Database\n",
    "Camp heath records include infirmary visits for both campers and staff. The camp database only has information on campers, so a staff table needs to be cleaned and uploaded to the database. \n",
    "1. Import from file\n",
    "2. Clean\n",
    "3. Transform to correct types\n",
    "4. Connect to database, add new table, upload data.\n",
    "\n",
    "Because the table includes names and birthdates of staff members, this public version of the script hides any print statements that were used to look at the data. "
   ]
  },
  {
   "cell_type": "code",
   "execution_count": 1,
   "metadata": {},
   "outputs": [],
   "source": [
    "import pandas as pd"
   ]
  },
  {
   "cell_type": "code",
   "execution_count": 2,
   "metadata": {
    "scrolled": true
   },
   "outputs": [],
   "source": [
    "staff_raw = pd.read_csv('C:\\\\Users\\\\avery\\\\OneDrive\\\\health_database_docs\\\\staff_raw.csv')"
   ]
  },
  {
   "cell_type": "markdown",
   "metadata": {},
   "source": [
    "Convert table names and data types"
   ]
  },
  {
   "cell_type": "code",
   "execution_count": 3,
   "metadata": {},
   "outputs": [
    {
     "name": "stdout",
     "output_type": "stream",
     "text": [
      "staff_id                 int64\n",
      "name                    object\n",
      "gender                  object\n",
      "birthdate       datetime64[ns]\n",
      "household_id           float64\n",
      "staff_zip               object\n",
      "email                   object\n",
      "dtype: object\n"
     ]
    }
   ],
   "source": [
    "col_map = {'PersonID': 'staff_id', \n",
    "           'Full Name': 'name', \n",
    "           'Gender': 'gender', \n",
    "           'Birth Date':'birthdate', \n",
    "           'Primary Childhood ID': 'household_id', \n",
    "           'Primary Mailing Zip': 'staff_zip', \n",
    "           'Login/Email': 'email'}\n",
    "\n",
    "staff_rename = staff_raw.rename(col_map, axis=1)\n",
    "\n",
    "# Make birthdate into datetime\n",
    "staff_rename['birthdate'] = pd.to_datetime(staff_rename['birthdate'])\n",
    "\n",
    "print(staff_rename.dtypes)"
   ]
  },
  {
   "cell_type": "markdown",
   "metadata": {},
   "source": [
    "It seems there are some records that were used to test the data system. Find and remove all records that have the word 'test' in them."
   ]
  },
  {
   "cell_type": "code",
   "execution_count": 4,
   "metadata": {
    "scrolled": true
   },
   "outputs": [],
   "source": [
    "test_for_test = staff_rename['name'].str.contains('Test', regex=True)\n",
    "staff_no_test = staff_rename[~test_for_test]"
   ]
  },
  {
   "cell_type": "markdown",
   "metadata": {},
   "source": [
    "The household_id column shows that a staff member was once a camper. In the camper database, this number connects to information about their household. To serve as a foreign key to the households table in the database, this number needs to be an integer rather than a float and not contain null values. \n",
    "\n",
    "To make this change, first replace nulls with 0 and then convert to integer."
   ]
  },
  {
   "cell_type": "code",
   "execution_count": 8,
   "metadata": {
    "scrolled": true
   },
   "outputs": [],
   "source": [
    "staff_no_test.loc[:, 'household_id'].fillna(0, inplace=True, axis=0)\n",
    "staff_no_test.loc[:, 'household_id'] = staff_no_test.loc[:, 'household_id'].astype('int')"
   ]
  },
  {
   "cell_type": "markdown",
   "metadata": {},
   "source": [
    "Finally, set the staff_id as the index."
   ]
  },
  {
   "cell_type": "code",
   "execution_count": 6,
   "metadata": {},
   "outputs": [],
   "source": [
    "staff_clean = staff_no_test.set_index('staff_id')"
   ]
  },
  {
   "cell_type": "markdown",
   "metadata": {},
   "source": [
    "Now we're ready to add this to a new table in the database. For efficiency's sake, we will create the table in a IDE (DataGrip). Here is the SQL command to generate the new table:"
   ]
  },
  {
   "cell_type": "markdown",
   "metadata": {},
   "source": [
    "CREATE TABLE staff( <br>\n",
    "    staff_id INT PRIMARY KEY,<br>\n",
    "    name VARCHAR(50), <br>\n",
    "    gender VARCHAR(7), <br>\n",
    "    birthdate DATE, <br>\n",
    "    household_id INTEGER, <br>\n",
    "    staff_zip VARCHAR(10), <br>\n",
    "    email VARCHAR(65)<br>\n",
    ")"
   ]
  },
  {
   "cell_type": "markdown",
   "metadata": {},
   "source": [
    "Export the df as a csv to add to table."
   ]
  },
  {
   "cell_type": "code",
   "execution_count": 7,
   "metadata": {},
   "outputs": [],
   "source": [
    "staff_clean.to_csv('C:\\\\Users\\\\avery\\\\OneDrive\\\\health_database_docs\\\\staff_clean.csv')"
   ]
  },
  {
   "cell_type": "code",
   "execution_count": null,
   "metadata": {},
   "outputs": [],
   "source": []
  }
 ],
 "metadata": {
  "kernelspec": {
   "display_name": "Python 3",
   "language": "python",
   "name": "python3"
  },
  "language_info": {
   "codemirror_mode": {
    "name": "ipython",
    "version": 3
   },
   "file_extension": ".py",
   "mimetype": "text/x-python",
   "name": "python",
   "nbconvert_exporter": "python",
   "pygments_lexer": "ipython3",
   "version": "3.8.3"
  }
 },
 "nbformat": 4,
 "nbformat_minor": 4
}
